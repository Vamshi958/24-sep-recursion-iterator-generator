{
 "cells": [
  {
   "cell_type": "code",
   "execution_count": 1,
   "id": "677a1bd6-fad6-4c01-8af6-e1e7fe22a0fe",
   "metadata": {},
   "outputs": [
    {
     "data": {
      "text/plain": [
       "9"
      ]
     },
     "execution_count": 1,
     "metadata": {},
     "output_type": "execute_result"
    }
   ],
   "source": [
    "s=\"sudhanshu\"\n",
    "len(s)"
   ]
  },
  {
   "cell_type": "code",
   "execution_count": 4,
   "id": "3a6ba311-39d8-4839-bd07-b20f4931fb5c",
   "metadata": {},
   "outputs": [],
   "source": [
    "#using recursion\n",
    "def find_length(s):\n",
    "    if s==\"\":\n",
    "        return 0\n",
    "    else:\n",
    "        return 1 + find_length(s[1:])"
   ]
  },
  {
   "cell_type": "code",
   "execution_count": 5,
   "id": "66ea5269-4fe7-4f4d-9209-aed7d62af246",
   "metadata": {},
   "outputs": [
    {
     "data": {
      "text/plain": [
       "6"
      ]
     },
     "execution_count": 5,
     "metadata": {},
     "output_type": "execute_result"
    }
   ],
   "source": [
    "s=\"vamshi\"\n",
    "find_length(s)"
   ]
  },
  {
   "cell_type": "code",
   "execution_count": 6,
   "id": "a151f62c-5a91-4a97-b9d8-baae803b5af5",
   "metadata": {},
   "outputs": [
    {
     "data": {
      "text/plain": [
       "8"
      ]
     },
     "execution_count": 6,
     "metadata": {},
     "output_type": "execute_result"
    }
   ],
   "source": [
    "find_length(\"pwskills\")"
   ]
  },
  {
   "cell_type": "code",
   "execution_count": 7,
   "id": "6ed781f7-466f-47f0-b8ff-8183241c1e53",
   "metadata": {},
   "outputs": [
    {
     "data": {
      "text/plain": [
       "'ihsmav'"
      ]
     },
     "execution_count": 7,
     "metadata": {},
     "output_type": "execute_result"
    }
   ],
   "source": [
    "#reverse\n",
    "s[::-1]"
   ]
  },
  {
   "cell_type": "code",
   "execution_count": 9,
   "id": "9cc0a2f9-62ca-44a6-b29a-c379460ed8a0",
   "metadata": {},
   "outputs": [],
   "source": [
    "def find_reverse(s):\n",
    "    if s==\"\":\n",
    "        return \"\"\n",
    "    else:\n",
    "        return find_reverse(s[1:])+s[0]"
   ]
  },
  {
   "cell_type": "code",
   "execution_count": 10,
   "id": "9669e1c4-ce46-46fe-b582-ed4b0201c677",
   "metadata": {},
   "outputs": [
    {
     "data": {
      "text/plain": [
       "'ihsmav'"
      ]
     },
     "execution_count": 10,
     "metadata": {},
     "output_type": "execute_result"
    }
   ],
   "source": [
    "find_reverse(s)"
   ]
  },
  {
   "cell_type": "code",
   "execution_count": 11,
   "id": "8f8fe789-40ba-48ad-8bb4-74e4ab9102b2",
   "metadata": {},
   "outputs": [],
   "source": [
    "#no of occurences in a string\n",
    "s=\"aaaabbbcc\""
   ]
  },
  {
   "cell_type": "code",
   "execution_count": 17,
   "id": "f57fa1df-393b-451b-9ac2-72ea393ca51d",
   "metadata": {},
   "outputs": [],
   "source": [
    "def find_char_count(s,a):\n",
    "    if s==\"\":\n",
    "        return 0\n",
    "    elif s[0]==a:\n",
    "        return 1 +find_char_count(s[1:],a)\n",
    "    else:\n",
    "        return find_char_count(s[1:],a)\n"
   ]
  },
  {
   "cell_type": "code",
   "execution_count": 18,
   "id": "b8be836f-f4c1-4a55-8f22-90efc47b4c22",
   "metadata": {},
   "outputs": [
    {
     "data": {
      "text/plain": [
       "4"
      ]
     },
     "execution_count": 18,
     "metadata": {},
     "output_type": "execute_result"
    }
   ],
   "source": [
    "find_char_count(s,\"a\")"
   ]
  },
  {
   "cell_type": "markdown",
   "id": "814b088f-1b7e-4fef-ab3f-f9d36071db00",
   "metadata": {},
   "source": [
    "FOR RECURSION WE NEED BASE CASE AND A RECURSIVE LOGIC -------REMEMBER"
   ]
  },
  {
   "cell_type": "code",
   "execution_count": 19,
   "id": "797ea81b-d040-4b88-9603-ae6b5adbc0f2",
   "metadata": {},
   "outputs": [],
   "source": [
    "l = [4,5,6,3,4,5,6,6,7]"
   ]
  },
  {
   "cell_type": "code",
   "execution_count": 20,
   "id": "30be90f2-1049-4150-bde2-508f14ddeb23",
   "metadata": {},
   "outputs": [],
   "source": [
    "#find this list is sorted or not"
   ]
  },
  {
   "cell_type": "code",
   "execution_count": 23,
   "id": "4cacc14c-a449-4e93-a0ca-cd32a7d04ce9",
   "metadata": {},
   "outputs": [],
   "source": [
    "def find_list_sorted(l):\n",
    "    if len(l)<=1:\n",
    "        return True\n",
    "    \n",
    "    elif l[0]>l[1]:\n",
    "        return False\n",
    "    else:\n",
    "        return find_list_sorted(l[1:])\n",
    "        \n",
    "        "
   ]
  },
  {
   "cell_type": "code",
   "execution_count": 24,
   "id": "9cc0bd90-c3b6-4b1a-a5d4-116e654b3849",
   "metadata": {},
   "outputs": [
    {
     "data": {
      "text/plain": [
       "False"
      ]
     },
     "execution_count": 24,
     "metadata": {},
     "output_type": "execute_result"
    }
   ],
   "source": [
    "find_list_sorted(l)\n"
   ]
  },
  {
   "cell_type": "code",
   "execution_count": 25,
   "id": "34ef5540-9360-4332-8366-086c129cc099",
   "metadata": {},
   "outputs": [],
   "source": [
    "l=[1,2,3,4,5,6]"
   ]
  },
  {
   "cell_type": "code",
   "execution_count": 26,
   "id": "f15a8ec4-fa33-440b-8e63-f05f33e93bdf",
   "metadata": {},
   "outputs": [
    {
     "data": {
      "text/plain": [
       "True"
      ]
     },
     "execution_count": 26,
     "metadata": {},
     "output_type": "execute_result"
    }
   ],
   "source": [
    "find_list_sorted(l)\n"
   ]
  },
  {
   "cell_type": "code",
   "execution_count": 32,
   "id": "b264d681-0d38-481b-9785-89e4e4da4c07",
   "metadata": {},
   "outputs": [],
   "source": [
    "#check perfect square\n",
    "def check_perfect_square(n,start=1):\n",
    "    if n == start **2:\n",
    "        return start\n",
    "    elif n<start**2:\n",
    "        return False\n",
    "    else:\n",
    "        return check_perfect_square(n,start+1)"
   ]
  },
  {
   "cell_type": "code",
   "execution_count": 33,
   "id": "27faf451-09cf-4bd6-957c-5ccec235faf6",
   "metadata": {},
   "outputs": [
    {
     "data": {
      "text/plain": [
       "8"
      ]
     },
     "execution_count": 33,
     "metadata": {},
     "output_type": "execute_result"
    }
   ],
   "source": [
    " check_perfect_square(64)"
   ]
  },
  {
   "cell_type": "code",
   "execution_count": 34,
   "id": "08b25efc-7381-4ac2-8110-dcf37a3862c5",
   "metadata": {},
   "outputs": [],
   "source": [
    "#check perfect square\n",
    "def check_perfect_square(n,start=1):\n",
    "    if n == start **2:\n",
    "        return True\n",
    "    elif n<start**2:\n",
    "        return False\n",
    "    else:\n",
    "        return check_perfect_square(n,start+1)"
   ]
  },
  {
   "cell_type": "code",
   "execution_count": 35,
   "id": "9345b002-1e2a-4282-8fa5-be1cb88cf754",
   "metadata": {},
   "outputs": [
    {
     "data": {
      "text/plain": [
       "True"
      ]
     },
     "execution_count": 35,
     "metadata": {},
     "output_type": "execute_result"
    }
   ],
   "source": [
    " check_perfect_square(64)"
   ]
  },
  {
   "cell_type": "markdown",
   "id": "11acbd73-c65f-4cdb-981f-8fad4f0bb1ff",
   "metadata": {},
   "source": [
    "iterables,iterators"
   ]
  },
  {
   "cell_type": "code",
   "execution_count": 2,
   "id": "fe77f54d-e752-4a0d-819c-98ae5da609e6",
   "metadata": {},
   "outputs": [],
   "source": [
    "l=[2,3,4,5,6]\n",
    "a=10\n",
    "s=\"sudh\""
   ]
  },
  {
   "cell_type": "code",
   "execution_count": 12,
   "id": "de5297af-ee27-4b11-a49d-01c343b40301",
   "metadata": {},
   "outputs": [],
   "source": [
    "#integer or float-------non-iterable"
   ]
  },
  {
   "cell_type": "code",
   "execution_count": 13,
   "id": "58e1cd90-834c-454f-b9f8-60bc5e418a19",
   "metadata": {},
   "outputs": [
    {
     "name": "stdout",
     "output_type": "stream",
     "text": [
      "2\n",
      "3\n",
      "4\n",
      "5\n",
      "6\n"
     ]
    }
   ],
   "source": [
    "for i in l:\n",
    "    print(i)"
   ]
  },
  {
   "cell_type": "code",
   "execution_count": 14,
   "id": "1313b1ce-f56e-4e35-a682-e8ca6d662368",
   "metadata": {},
   "outputs": [
    {
     "name": "stdout",
     "output_type": "stream",
     "text": [
      "s\n",
      "u\n",
      "d\n",
      "h\n"
     ]
    }
   ],
   "source": [
    "for i in s:\n",
    "    print(i)"
   ]
  },
  {
   "cell_type": "code",
   "execution_count": 15,
   "id": "25db7f53-5881-496d-b642-b4e6fb2de5aa",
   "metadata": {},
   "outputs": [
    {
     "ename": "TypeError",
     "evalue": "'int' object is not iterable",
     "output_type": "error",
     "traceback": [
      "\u001b[0;31m---------------------------------------------------------------------------\u001b[0m",
      "\u001b[0;31mTypeError\u001b[0m                                 Traceback (most recent call last)",
      "Cell \u001b[0;32mIn[15], line 1\u001b[0m\n\u001b[0;32m----> 1\u001b[0m \u001b[38;5;28;01mfor\u001b[39;00m i \u001b[38;5;129;01min\u001b[39;00m a :\n\u001b[1;32m      2\u001b[0m     \u001b[38;5;28mprint\u001b[39m(i)   \u001b[38;5;66;03m#iterate---one after another inside object\u001b[39;00m\n",
      "\u001b[0;31mTypeError\u001b[0m: 'int' object is not iterable"
     ]
    }
   ],
   "source": [
    "for i in a :\n",
    "    print(i)   #iterate---one after another inside object"
   ]
  },
  {
   "cell_type": "code",
   "execution_count": 16,
   "id": "c67c6e2d-2d3a-4888-a1d5-0a92ae0486c0",
   "metadata": {},
   "outputs": [
    {
     "ename": "TypeError",
     "evalue": "'int' object is not iterable",
     "output_type": "error",
     "traceback": [
      "\u001b[0;31m---------------------------------------------------------------------------\u001b[0m",
      "\u001b[0;31mTypeError\u001b[0m                                 Traceback (most recent call last)",
      "Cell \u001b[0;32mIn[16], line 1\u001b[0m\n\u001b[0;32m----> 1\u001b[0m \u001b[38;5;28;43miter\u001b[39;49m\u001b[43m(\u001b[49m\u001b[38;5;241;43m10\u001b[39;49m\u001b[43m)\u001b[49m                 \u001b[38;5;66;03m#iter function call by for loop\u001b[39;00m\n",
      "\u001b[0;31mTypeError\u001b[0m: 'int' object is not iterable"
     ]
    }
   ],
   "source": [
    "iter(10)                 #iter function call by for loop"
   ]
  },
  {
   "cell_type": "code",
   "execution_count": 20,
   "id": "7592a587-7bc2-4289-a356-6eecbc8824b6",
   "metadata": {},
   "outputs": [],
   "source": [
    "s1 = iter(\"vamshi\")"
   ]
  },
  {
   "cell_type": "code",
   "execution_count": 22,
   "id": "a5adb6a7-61ca-4ef2-b1e1-0e87cd43c6fa",
   "metadata": {},
   "outputs": [
    {
     "data": {
      "text/plain": [
       "<str_iterator at 0x7fe019e30520>"
      ]
     },
     "execution_count": 22,
     "metadata": {},
     "output_type": "execute_result"
    }
   ],
   "source": [
    "s1"
   ]
  },
  {
   "cell_type": "code",
   "execution_count": 23,
   "id": "15837f9c-474f-4e98-bd55-e1173d7e8394",
   "metadata": {},
   "outputs": [
    {
     "data": {
      "text/plain": [
       "'v'"
      ]
     },
     "execution_count": 23,
     "metadata": {},
     "output_type": "execute_result"
    }
   ],
   "source": [
    "next(s1)"
   ]
  },
  {
   "cell_type": "code",
   "execution_count": 24,
   "id": "a72e5084-7953-44d3-91f7-b972a34959ff",
   "metadata": {},
   "outputs": [
    {
     "data": {
      "text/plain": [
       "'a'"
      ]
     },
     "execution_count": 24,
     "metadata": {},
     "output_type": "execute_result"
    }
   ],
   "source": [
    "next(s1)"
   ]
  },
  {
   "cell_type": "code",
   "execution_count": 25,
   "id": "e951cd54-a591-4b18-bcbb-dc4bc5a5e111",
   "metadata": {},
   "outputs": [
    {
     "data": {
      "text/plain": [
       "'m'"
      ]
     },
     "execution_count": 25,
     "metadata": {},
     "output_type": "execute_result"
    }
   ],
   "source": [
    "next(s1)"
   ]
  },
  {
   "cell_type": "code",
   "execution_count": 26,
   "id": "0827a82f-d675-40a2-b9af-372188c8cb28",
   "metadata": {},
   "outputs": [
    {
     "data": {
      "text/plain": [
       "'s'"
      ]
     },
     "execution_count": 26,
     "metadata": {},
     "output_type": "execute_result"
    }
   ],
   "source": [
    "next(s1)"
   ]
  },
  {
   "cell_type": "code",
   "execution_count": 27,
   "id": "f566966e-c54a-4633-b02f-28724e506855",
   "metadata": {},
   "outputs": [
    {
     "data": {
      "text/plain": [
       "'h'"
      ]
     },
     "execution_count": 27,
     "metadata": {},
     "output_type": "execute_result"
    }
   ],
   "source": [
    "next(s1)"
   ]
  },
  {
   "cell_type": "code",
   "execution_count": 28,
   "id": "e5e87fcb-f97b-4ba6-b2c6-0898be27da67",
   "metadata": {},
   "outputs": [
    {
     "data": {
      "text/plain": [
       "'i'"
      ]
     },
     "execution_count": 28,
     "metadata": {},
     "output_type": "execute_result"
    }
   ],
   "source": [
    "next(s1)"
   ]
  },
  {
   "cell_type": "code",
   "execution_count": 29,
   "id": "81e6aac7-1bc6-49e1-9f53-bd3d15bec4a8",
   "metadata": {},
   "outputs": [
    {
     "ename": "StopIteration",
     "evalue": "",
     "output_type": "error",
     "traceback": [
      "\u001b[0;31m---------------------------------------------------------------------------\u001b[0m",
      "\u001b[0;31mStopIteration\u001b[0m                             Traceback (most recent call last)",
      "Cell \u001b[0;32mIn[29], line 1\u001b[0m\n\u001b[0;32m----> 1\u001b[0m \u001b[38;5;28;43mnext\u001b[39;49m\u001b[43m(\u001b[49m\u001b[43ms1\u001b[49m\u001b[43m)\u001b[49m\n",
      "\u001b[0;31mStopIteration\u001b[0m: "
     ]
    }
   ],
   "source": [
    "next(s1)"
   ]
  },
  {
   "cell_type": "markdown",
   "id": "bd61ee83-6013-401e-aaf7-6a09df823790",
   "metadata": {},
   "source": [
    "differece b/w iterator and iterable----------------------"
   ]
  },
  {
   "cell_type": "code",
   "execution_count": 32,
   "id": "a6713f07-277a-4e9a-ab54-b773128d5266",
   "metadata": {},
   "outputs": [
    {
     "name": "stdout",
     "output_type": "stream",
     "text": [
      "s\n",
      "u\n",
      "d\n",
      "h\n"
     ]
    }
   ],
   "source": [
    "for i in s:\n",
    "    print(i)           #for loop know when it has to stop--------after end up last object\n",
    "                       #same way performed above by using s1 and next"
   ]
  },
  {
   "cell_type": "code",
   "execution_count": 33,
   "id": "5ddb9163-3082-453b-b39c-f491fd7ecb13",
   "metadata": {},
   "outputs": [],
   "source": [
    "s2 = \"pwskills\""
   ]
  },
  {
   "cell_type": "code",
   "execution_count": 34,
   "id": "e65bb8ec-7706-4985-9a8c-59ba4207b2e4",
   "metadata": {},
   "outputs": [
    {
     "ename": "TypeError",
     "evalue": "'str' object is not an iterator",
     "output_type": "error",
     "traceback": [
      "\u001b[0;31m---------------------------------------------------------------------------\u001b[0m",
      "\u001b[0;31mTypeError\u001b[0m                                 Traceback (most recent call last)",
      "Cell \u001b[0;32mIn[34], line 1\u001b[0m\n\u001b[0;32m----> 1\u001b[0m \u001b[38;5;28;43mnext\u001b[39;49m\u001b[43m(\u001b[49m\u001b[43ms2\u001b[49m\u001b[43m)\u001b[49m\n",
      "\u001b[0;31mTypeError\u001b[0m: 'str' object is not an iterator"
     ]
    }
   ],
   "source": [
    "next(s2)             #its not iterator but iterable----------------"
   ]
  },
  {
   "cell_type": "code",
   "execution_count": 35,
   "id": "cb22a246-e215-4428-b1cc-58142f50c1f6",
   "metadata": {},
   "outputs": [
    {
     "name": "stdout",
     "output_type": "stream",
     "text": [
      "p\n",
      "w\n",
      "s\n",
      "k\n",
      "i\n",
      "l\n",
      "l\n",
      "s\n"
     ]
    }
   ],
   "source": [
    "for i in s2:\n",
    "    print(i)"
   ]
  },
  {
   "cell_type": "code",
   "execution_count": 38,
   "id": "38489d68-7452-467b-ad2f-a4db6607c607",
   "metadata": {},
   "outputs": [
    {
     "data": {
      "text/plain": [
       "<str_iterator at 0x7fe01817cbb0>"
      ]
     },
     "execution_count": 38,
     "metadata": {},
     "output_type": "execute_result"
    }
   ],
   "source": [
    "iter(s2)           #------------it will try to take iterable object and give iterator--------full notes in notebook"
   ]
  },
  {
   "cell_type": "markdown",
   "id": "b7d7a154-19bf-4379-ad33-10b9d15fdb59",
   "metadata": {},
   "source": [
    "string is aN ITERABLE OBJECT BUT NOT AN ITERATOR BY DEFAULT-----------I CANT EXTARCT DATA BY DEFAULT"
   ]
  },
  {
   "cell_type": "code",
   "execution_count": 41,
   "id": "5ebffa3e-6001-41bd-a064-2cce67a7067f",
   "metadata": {},
   "outputs": [],
   "source": [
    "l=iter([1,2,3,4])"
   ]
  },
  {
   "cell_type": "code",
   "execution_count": 42,
   "id": "23085508-5d73-4816-9a4e-03069a5cdad9",
   "metadata": {},
   "outputs": [
    {
     "data": {
      "text/plain": [
       "1"
      ]
     },
     "execution_count": 42,
     "metadata": {},
     "output_type": "execute_result"
    }
   ],
   "source": [
    "next(l)"
   ]
  },
  {
   "cell_type": "code",
   "execution_count": 43,
   "id": "64a6b116-712c-46cf-b623-8d433aa20e32",
   "metadata": {},
   "outputs": [
    {
     "data": {
      "text/plain": [
       "2"
      ]
     },
     "execution_count": 43,
     "metadata": {},
     "output_type": "execute_result"
    }
   ],
   "source": [
    "next(l)"
   ]
  },
  {
   "cell_type": "code",
   "execution_count": 44,
   "id": "9f8608cf-3eea-4296-9536-d990edff05bb",
   "metadata": {},
   "outputs": [
    {
     "data": {
      "text/plain": [
       "3"
      ]
     },
     "execution_count": 44,
     "metadata": {},
     "output_type": "execute_result"
    }
   ],
   "source": [
    "next(l)"
   ]
  },
  {
   "cell_type": "code",
   "execution_count": 45,
   "id": "dd010d92-7e98-4616-ae01-4701ed3772b9",
   "metadata": {},
   "outputs": [
    {
     "data": {
      "text/plain": [
       "4"
      ]
     },
     "execution_count": 45,
     "metadata": {},
     "output_type": "execute_result"
    }
   ],
   "source": [
    "next(l)"
   ]
  },
  {
   "cell_type": "code",
   "execution_count": 47,
   "id": "0692895d-fa79-4ed1-aa9a-c4df67a046d3",
   "metadata": {},
   "outputs": [
    {
     "ename": "StopIteration",
     "evalue": "",
     "output_type": "error",
     "traceback": [
      "\u001b[0;31m---------------------------------------------------------------------------\u001b[0m",
      "\u001b[0;31mStopIteration\u001b[0m                             Traceback (most recent call last)",
      "Cell \u001b[0;32mIn[47], line 1\u001b[0m\n\u001b[0;32m----> 1\u001b[0m \u001b[38;5;28;43mnext\u001b[39;49m\u001b[43m(\u001b[49m\u001b[43ml\u001b[49m\u001b[43m)\u001b[49m\n",
      "\u001b[0;31mStopIteration\u001b[0m: "
     ]
    }
   ],
   "source": [
    "next(l)"
   ]
  },
  {
   "cell_type": "markdown",
   "id": "a1e2a6eb-d084-4c4d-b349-05fd23622b00",
   "metadata": {},
   "source": [
    "this is how for loop works-------converts iterable object into iterator by using iter() function and extract data one by one using next() function internally.\n",
    "if there is no data stop iteration"
   ]
  },
  {
   "cell_type": "code",
   "execution_count": 49,
   "id": "2c4281c8-e325-4716-8302-ed4d634ca1e3",
   "metadata": {},
   "outputs": [
    {
     "ename": "TypeError",
     "evalue": "'int' object is not iterable",
     "output_type": "error",
     "traceback": [
      "\u001b[0;31m---------------------------------------------------------------------------\u001b[0m",
      "\u001b[0;31mTypeError\u001b[0m                                 Traceback (most recent call last)",
      "Cell \u001b[0;32mIn[49], line 1\u001b[0m\n\u001b[0;32m----> 1\u001b[0m \u001b[38;5;28;01mfor\u001b[39;00m i \u001b[38;5;129;01min\u001b[39;00m \u001b[38;5;241m2423\u001b[39m:              \u001b[38;5;66;03m#int is not iterable object so it cant convert into iterator and extract\u001b[39;00m\n\u001b[1;32m      2\u001b[0m     \u001b[38;5;28mprint\u001b[39m(i)\n",
      "\u001b[0;31mTypeError\u001b[0m: 'int' object is not iterable"
     ]
    }
   ],
   "source": [
    "for i in 2423:              #int is not iterable object so it cant convert into iterator and extract\n",
    "    print(i)"
   ]
  },
  {
   "cell_type": "code",
   "execution_count": 52,
   "id": "0f460e22-454a-4acb-a2de-b1225db01715",
   "metadata": {},
   "outputs": [
    {
     "name": "stdout",
     "output_type": "stream",
     "text": [
      "1\n",
      "2\n",
      "3\n",
      "4\n"
     ]
    }
   ],
   "source": [
    "for i in {1,2,3,4}: #set\n",
    "    print(i)\n",
    "    "
   ]
  },
  {
   "cell_type": "code",
   "execution_count": 51,
   "id": "1c0177b9-e0d3-41ca-9d12-200afa531dbd",
   "metadata": {},
   "outputs": [
    {
     "data": {
      "text/plain": [
       "<set_iterator at 0x7fe018106a80>"
      ]
     },
     "execution_count": 51,
     "metadata": {},
     "output_type": "execute_result"
    }
   ],
   "source": [
    "iter({1,2,3,4})"
   ]
  },
  {
   "cell_type": "code",
   "execution_count": 54,
   "id": "c9e73969-0624-420f-8e46-612773c8a188",
   "metadata": {},
   "outputs": [
    {
     "name": "stdout",
     "output_type": "stream",
     "text": [
      "2\n",
      "3\n",
      "4\n",
      "5\n"
     ]
    }
   ],
   "source": [
    "for i in (2,3,4,5): #tuple\n",
    "    print(i)\n",
    "    "
   ]
  },
  {
   "cell_type": "code",
   "execution_count": 55,
   "id": "4e7a9290-59b0-48d2-b336-1739a5f7774c",
   "metadata": {},
   "outputs": [
    {
     "data": {
      "text/plain": [
       "<tuple_iterator at 0x7fe01854ec80>"
      ]
     },
     "execution_count": 55,
     "metadata": {},
     "output_type": "execute_result"
    }
   ],
   "source": [
    "iter((2,3,4))"
   ]
  },
  {
   "cell_type": "code",
   "execution_count": 57,
   "id": "e782e201-9681-46f5-9d44-5dccb093eb2b",
   "metadata": {},
   "outputs": [
    {
     "ename": "TypeError",
     "evalue": "'bool' object is not iterable",
     "output_type": "error",
     "traceback": [
      "\u001b[0;31m---------------------------------------------------------------------------\u001b[0m",
      "\u001b[0;31mTypeError\u001b[0m                                 Traceback (most recent call last)",
      "Cell \u001b[0;32mIn[57], line 1\u001b[0m\n\u001b[0;32m----> 1\u001b[0m \u001b[38;5;28;43miter\u001b[39;49m\u001b[43m(\u001b[49m\u001b[38;5;28;43;01mTrue\u001b[39;49;00m\u001b[43m)\u001b[49m \u001b[38;5;66;03m#boolean\u001b[39;00m\n",
      "\u001b[0;31mTypeError\u001b[0m: 'bool' object is not iterable"
     ]
    }
   ],
   "source": [
    "iter(True) #boolean"
   ]
  },
  {
   "cell_type": "code",
   "execution_count": 60,
   "id": "a9a61b6c-8a01-4660-ab0f-adf91c7925f6",
   "metadata": {},
   "outputs": [],
   "source": [
    "d=iter({\"name\":\"vamshi\"})"
   ]
  },
  {
   "cell_type": "code",
   "execution_count": 61,
   "id": "3265e936-f9fa-409b-bf7c-cb50d32cc846",
   "metadata": {},
   "outputs": [
    {
     "data": {
      "text/plain": [
       "'name'"
      ]
     },
     "execution_count": 61,
     "metadata": {},
     "output_type": "execute_result"
    }
   ],
   "source": [
    "next(d)"
   ]
  },
  {
   "cell_type": "code",
   "execution_count": null,
   "id": "5b4b98f3-138b-4cc4-9068-f1af7e650e96",
   "metadata": {},
   "outputs": [],
   "source": [
    "GENERATOR FUNCTION--------------------------------------------"
   ]
  },
  {
   "cell_type": "code",
   "execution_count": 63,
   "id": "70af1923-c322-434a-9b7e-eb9f4c0c1c77",
   "metadata": {},
   "outputs": [
    {
     "data": {
      "text/plain": [
       "range(0, 5)"
      ]
     },
     "execution_count": 63,
     "metadata": {},
     "output_type": "execute_result"
    }
   ],
   "source": [
    "range(0,5)"
   ]
  },
  {
   "cell_type": "code",
   "execution_count": 66,
   "id": "312f78d7-c922-4912-b432-47299a87a4c7",
   "metadata": {},
   "outputs": [
    {
     "data": {
      "text/plain": [
       "[0, 1, 2, 3, 4]"
      ]
     },
     "execution_count": 66,
     "metadata": {},
     "output_type": "execute_result"
    }
   ],
   "source": [
    "list(range(0,5)) #---------upperbound always excludes"
   ]
  },
  {
   "cell_type": "code",
   "execution_count": null,
   "id": "67880ebe-4023-4027-83b2-bb80232d9a9a",
   "metadata": {},
   "outputs": [],
   "source": [
    "range fun try to generate data for you in a such a way it will just try to create a object one by one -----by memorizing what data i generated in past.\n",
    "generator--------------try to generate a data one by one out of generator object by remebering what data i have generated last time."
   ]
  },
  {
   "cell_type": "code",
   "execution_count": 68,
   "id": "14a9e8c3-efd2-46f3-bea4-f62c8474eb32",
   "metadata": {},
   "outputs": [
    {
     "name": "stdout",
     "output_type": "stream",
     "text": [
      "0\n",
      "1\n",
      "2\n",
      "3\n",
      "4\n"
     ]
    }
   ],
   "source": [
    "#other way to print range\n",
    "for i in range(0,5):\n",
    "    print(i)"
   ]
  },
  {
   "cell_type": "code",
   "execution_count": 77,
   "id": "a11ae8e0-970b-4497-a8e7-bdb31696fbbc",
   "metadata": {},
   "outputs": [],
   "source": [
    " i = iter(range(0,5))     #range is iterable object"
   ]
  },
  {
   "cell_type": "code",
   "execution_count": 71,
   "id": "f60173a8-0185-4ad7-8ca5-fd462aae05c0",
   "metadata": {},
   "outputs": [
    {
     "data": {
      "text/plain": [
       "0"
      ]
     },
     "execution_count": 71,
     "metadata": {},
     "output_type": "execute_result"
    }
   ],
   "source": [
    "next(i)"
   ]
  },
  {
   "cell_type": "code",
   "execution_count": 72,
   "id": "85afa882-bdd2-4949-b142-1b755aed8c3e",
   "metadata": {},
   "outputs": [
    {
     "data": {
      "text/plain": [
       "1"
      ]
     },
     "execution_count": 72,
     "metadata": {},
     "output_type": "execute_result"
    }
   ],
   "source": [
    "next(i)"
   ]
  },
  {
   "cell_type": "code",
   "execution_count": 73,
   "id": "42ca106c-84dc-4ebe-b9ad-e3b3698036e2",
   "metadata": {},
   "outputs": [
    {
     "data": {
      "text/plain": [
       "2"
      ]
     },
     "execution_count": 73,
     "metadata": {},
     "output_type": "execute_result"
    }
   ],
   "source": [
    "next(i)"
   ]
  },
  {
   "cell_type": "code",
   "execution_count": 74,
   "id": "ad6a47e5-9f99-4a9f-9716-aad502198746",
   "metadata": {},
   "outputs": [
    {
     "data": {
      "text/plain": [
       "3"
      ]
     },
     "execution_count": 74,
     "metadata": {},
     "output_type": "execute_result"
    }
   ],
   "source": [
    "next(i)"
   ]
  },
  {
   "cell_type": "code",
   "execution_count": 75,
   "id": "c1161f3c-fa2a-4d8d-bf81-8a13e99d049b",
   "metadata": {},
   "outputs": [
    {
     "data": {
      "text/plain": [
       "4"
      ]
     },
     "execution_count": 75,
     "metadata": {},
     "output_type": "execute_result"
    }
   ],
   "source": [
    "next(i)"
   ]
  },
  {
   "cell_type": "code",
   "execution_count": 76,
   "id": "cc059082-32f7-4f81-83de-d9ac974a1fd8",
   "metadata": {},
   "outputs": [
    {
     "ename": "StopIteration",
     "evalue": "",
     "output_type": "error",
     "traceback": [
      "\u001b[0;31m---------------------------------------------------------------------------\u001b[0m",
      "\u001b[0;31mStopIteration\u001b[0m                             Traceback (most recent call last)",
      "Cell \u001b[0;32mIn[76], line 1\u001b[0m\n\u001b[0;32m----> 1\u001b[0m \u001b[38;5;28;43mnext\u001b[39;49m\u001b[43m(\u001b[49m\u001b[43mi\u001b[49m\u001b[43m)\u001b[49m\n",
      "\u001b[0;31mStopIteration\u001b[0m: "
     ]
    }
   ],
   "source": [
    "next(i)"
   ]
  },
  {
   "cell_type": "code",
   "execution_count": 80,
   "id": "86723fc1-994d-41b0-a182-fb225c8d9fef",
   "metadata": {},
   "outputs": [
    {
     "data": {
      "text/plain": [
       "range(0, 5)"
      ]
     },
     "execution_count": 80,
     "metadata": {},
     "output_type": "execute_result"
    }
   ],
   "source": [
    "range(0,5) #calling range function-----it not returning anything------------so range() IS DIFFerent from len() function.\n",
    "           #you need to write return function by for loop or list "
   ]
  },
  {
   "cell_type": "code",
   "execution_count": 81,
   "id": "5127900a-0ff8-48c6-a70d-673df652c093",
   "metadata": {},
   "outputs": [
    {
     "data": {
      "text/plain": [
       "4"
      ]
     },
     "execution_count": 81,
     "metadata": {},
     "output_type": "execute_result"
    }
   ],
   "source": [
    "len(\"sudh\")   #its returning something"
   ]
  },
  {
   "cell_type": "code",
   "execution_count": 82,
   "id": "84268a5e-f8bf-41a0-891b-526d2b26a1b8",
   "metadata": {},
   "outputs": [],
   "source": [
    "#count a number from 1 to n----what is total number of data available from one data to another\n",
    "def count_fun(n):\n",
    "    i = 1\n",
    "    while i <=n:\n",
    "        yield i\n",
    "        i = i+1"
   ]
  },
  {
   "cell_type": "code",
   "execution_count": 83,
   "id": "2436a996-447e-4b2f-8528-a16cdbee049d",
   "metadata": {},
   "outputs": [
    {
     "data": {
      "text/plain": [
       "<generator object count_fun at 0x7fe01807f530>"
      ]
     },
     "execution_count": 83,
     "metadata": {},
     "output_type": "execute_result"
    }
   ],
   "source": [
    "count_fun(9)   #no return used--------get generator object"
   ]
  },
  {
   "cell_type": "code",
   "execution_count": 84,
   "id": "2978e4e0-451c-4398-aa4b-85af31638c68",
   "metadata": {},
   "outputs": [
    {
     "name": "stdout",
     "output_type": "stream",
     "text": [
      "1\n",
      "2\n",
      "3\n",
      "4\n",
      "5\n",
      "6\n",
      "7\n",
      "8\n",
      "9\n"
     ]
    }
   ],
   "source": [
    "for i in count_fun(9):\n",
    "    print(i)"
   ]
  },
  {
   "cell_type": "code",
   "execution_count": 85,
   "id": "fc9e8180-faab-4ec7-ad02-fba4b099e569",
   "metadata": {},
   "outputs": [],
   "source": [
    "j = iter(count_fun(9))"
   ]
  },
  {
   "cell_type": "code",
   "execution_count": 86,
   "id": "d0cfa1db-c3a5-461e-8c78-41cca1151517",
   "metadata": {},
   "outputs": [
    {
     "data": {
      "text/plain": [
       "<generator object count_fun at 0x7fe01807f680>"
      ]
     },
     "execution_count": 86,
     "metadata": {},
     "output_type": "execute_result"
    }
   ],
   "source": [
    "j"
   ]
  },
  {
   "cell_type": "code",
   "execution_count": 87,
   "id": "74330b24-8d95-4b0f-80d7-304ede4ac9a7",
   "metadata": {},
   "outputs": [
    {
     "data": {
      "text/plain": [
       "1"
      ]
     },
     "execution_count": 87,
     "metadata": {},
     "output_type": "execute_result"
    }
   ],
   "source": [
    "next(j)"
   ]
  },
  {
   "cell_type": "code",
   "execution_count": 88,
   "id": "8242420b-145e-4c77-986c-85f98d628324",
   "metadata": {},
   "outputs": [
    {
     "data": {
      "text/plain": [
       "2"
      ]
     },
     "execution_count": 88,
     "metadata": {},
     "output_type": "execute_result"
    }
   ],
   "source": [
    "next(j)"
   ]
  },
  {
   "cell_type": "code",
   "execution_count": 89,
   "id": "6f39ffe2-b1d0-44d8-83b2-be70dc2425cf",
   "metadata": {},
   "outputs": [],
   "source": [
    "#the function which i generated is similiar like range() function\n",
    "#it gives data one by one by calling for loop not directly\n",
    "#used yield-----------yield means producing some sortb of result or production"
   ]
  },
  {
   "cell_type": "code",
   "execution_count": null,
   "id": "7d11b71e-d48e-4fbd-9116-65308c7adcdc",
   "metadata": {},
   "outputs": [],
   "source": [
    "differences b/w yield and return\n",
    "--****************************return will try to return some data from particular data just for once---then done ************************************\n",
    "--****************************yield "
   ]
  },
  {
   "cell_type": "code",
   "execution_count": 91,
   "id": "5a393b5b-65d9-45c9-9a4d-4c50fb928578",
   "metadata": {},
   "outputs": [],
   "source": [
    "def count_fun1(n):\n",
    "    i = 1\n",
    "    while i <=n:\n",
    "        return i\n",
    "        i = i+1"
   ]
  },
  {
   "cell_type": "code",
   "execution_count": 92,
   "id": "ac4b331b-efcf-4b26-92a7-1de7d87cd26e",
   "metadata": {},
   "outputs": [
    {
     "data": {
      "text/plain": [
       "1"
      ]
     },
     "execution_count": 92,
     "metadata": {},
     "output_type": "execute_result"
    }
   ],
   "source": [
    "count_fun1(5)"
   ]
  },
  {
   "cell_type": "code",
   "execution_count": 1,
   "id": "dde1e75e-a194-4582-9902-03ec0a947a85",
   "metadata": {},
   "outputs": [],
   "source": [
    "def count_fun2(n):\n",
    "    i = 1\n",
    "    while i <=n:\n",
    "        i = i+1\n",
    "    return i\n",
    "   "
   ]
  },
  {
   "cell_type": "code",
   "execution_count": 2,
   "id": "4be37dd2-0421-4ce0-a94e-68c93cb2401b",
   "metadata": {},
   "outputs": [
    {
     "data": {
      "text/plain": [
       "10"
      ]
     },
     "execution_count": 2,
     "metadata": {},
     "output_type": "execute_result"
    }
   ],
   "source": [
    "count_fun2(9)"
   ]
  },
  {
   "cell_type": "code",
   "execution_count": 7,
   "id": "3eedf987-3f62-4958-b6de-d2f8d0626ace",
   "metadata": {},
   "outputs": [],
   "source": [
    "def count_fun2(n): #this way i will get data same like yield\n",
    "    i=1\n",
    "    l=[]\n",
    "    while i<=n:\n",
    "        l.append(i)\n",
    "        i=i+1\n",
    "    return l"
   ]
  },
  {
   "cell_type": "code",
   "execution_count": 6,
   "id": "f1772e5c-be97-47a6-846b-4193f9b59c7f",
   "metadata": {},
   "outputs": [
    {
     "data": {
      "text/plain": [
       "[1, 2, 3, 4, 5, 6, 7, 8, 9]"
      ]
     },
     "execution_count": 6,
     "metadata": {},
     "output_type": "execute_result"
    }
   ],
   "source": [
    "count_fun2(9)"
   ]
  },
  {
   "cell_type": "code",
   "execution_count": null,
   "id": "cb115774-7e6f-42ed-8ed5-2843dccc8937",
   "metadata": {},
   "outputs": [],
   "source": [
    "count_fun2(50000000) **************if i give this input----this function return list it produce one by one and give to list and when entire list ready then only it will return list**************\n",
    "************this operation happen in memory---in RAM------if i have 1GB of ram and i have to produce 5 lakh data---then it wont work untill prepare total list data ***********so its is menmory intensive operation"
   ]
  },
  {
   "cell_type": "code",
   "execution_count": 8,
   "id": "2ebf1d7d-2ea6-4313-bdce-2d85e6887aa9",
   "metadata": {},
   "outputs": [],
   "source": [
    "#count a number from 1 to n----what is total number of data available from one data to another\n",
    "def count_fun(n):\n",
    "    i = 1\n",
    "    while i <=n:\n",
    "        yield i\n",
    "        i = i+1"
   ]
  },
  {
   "cell_type": "code",
   "execution_count": 9,
   "id": "4d621ae5-e698-435b-a63f-175505f9ceae",
   "metadata": {},
   "outputs": [
    {
     "name": "stdout",
     "output_type": "stream",
     "text": [
      "1\n",
      "2\n",
      "3\n",
      "4\n",
      "5\n"
     ]
    }
   ],
   "source": [
    "for i in count_fun(5):\n",
    "    print(i)"
   ]
  },
  {
   "cell_type": "code",
   "execution_count": 12,
   "id": "63aad3a0-040b-47c0-8d9a-ca375dfe0364",
   "metadata": {},
   "outputs": [
    {
     "name": "stdout",
     "output_type": "stream",
     "text": [
      "1\n",
      "2\n",
      "3\n",
      "4\n",
      "5\n"
     ]
    }
   ],
   "source": [
    "for i in count_fun(5000000000):  #my fun still running and produce data----not waiting for full data------it is producing data and throw into cycle---it does not save in memory like return---whatever data came it removes\n",
    "    print(i)"
   ]
  },
  {
   "cell_type": "code",
   "execution_count": 17,
   "id": "033ade09-d464-4863-8fc7-fc84061b7179",
   "metadata": {},
   "outputs": [],
   "source": [
    "#try to write program in a generate way till certain extent for fibonacci series\\\n",
    "def fib(n):\n",
    "    a,b=0,1\n",
    "    for i in range(n):  #i is a place holder/variable\n",
    "        yield a\n",
    "        a,b=b,a+b"
   ]
  },
  {
   "cell_type": "code",
   "execution_count": 16,
   "id": "f5ec9f57-edbd-473c-af70-0c4508802acb",
   "metadata": {},
   "outputs": [
    {
     "name": "stdout",
     "output_type": "stream",
     "text": [
      "0\n",
      "1\n",
      "1\n",
      "2\n",
      "3\n",
      "5\n",
      "8\n",
      "13\n",
      "21\n"
     ]
    }
   ],
   "source": [
    "for i in fib(9):\n",
    "    print(i)"
   ]
  },
  {
   "cell_type": "code",
   "execution_count": 23,
   "id": "06654ce3-e762-4c45-92cd-6a6b1af0238f",
   "metadata": {},
   "outputs": [
    {
     "name": "stdout",
     "output_type": "stream",
     "text": [
      "'23 sep while loop and recursion revision.ipynb'\n",
      "'24th september recursion,iterator,generator.ipynb'\n",
      "'Assignment 2.ipynb'\n",
      "'brake,continue,functions-lot of assignments.ipynb'\n",
      "'conditional statements.ipynb'\n",
      "'Google LLC (ˈɡuːɡəl ⓘ) is an Americ.txt'\n",
      "'Lamda functions and types of arguements.ipynb'\n",
      "'operators and control flow.ipynb'\n",
      " Operators.ipynb\n",
      "'Python basic Data types(list,set,tuple,string,dictionary) 20 august.ipynb'\n",
      " README.md\n",
      " sample-code.ipynb\n",
      "'sudh Conditional statements and loops by sudhanshu 16 sep.ipynb'\n",
      "'SUDH for,lamda,map,reduce,filter,recursion 4hr class.ipynb'\n",
      " Untitled2.ipynb\n"
     ]
    }
   ],
   "source": [
    "ls   "
   ]
  },
  {
   "cell_type": "code",
   "execution_count": 20,
   "id": "6e54ef22-c20e-415a-bb7d-58dc7d884da2",
   "metadata": {},
   "outputs": [
    {
     "data": {
      "text/plain": [
       "'/home/jovyan/work'"
      ]
     },
     "execution_count": 20,
     "metadata": {},
     "output_type": "execute_result"
    }
   ],
   "source": [
    "pwd"
   ]
  },
  {
   "cell_type": "code",
   "execution_count": null,
   "id": "e37ab6e7-ec28-4208-ad3a-20c7d9639d66",
   "metadata": {},
   "outputs": [],
   "source": [
    " #requirement is to read the file one by one\n",
    "       #ls--is nothing but its a linience command--just list all files available in cuurent loaction\n",
    "       #pwd------its my current working directory"
   ]
  },
  {
   "cell_type": "code",
   "execution_count": 25,
   "id": "0c621a8c-d873-46c5-bbb8-eb8ba1377694",
   "metadata": {},
   "outputs": [
    {
     "name": "stdout",
     "output_type": "stream",
     "text": [
      "Google LLC (/ˈɡuːɡəl/ ⓘ) is an American multinational technology company focusing on artificial intelligence,[9] online advertising, search engine technology, cloud computing, computer software, quantum computing, e-commerce, and consumer electronics. It has been referred to as \"the most powerful company in the world\"[10] and as one of the world's most valuable brands due to its market dominance, data collection, and technological advantages in the field of artificial intelligence.[11][12][13] Alongside Amazon, Apple Inc., Meta Platforms, and Microsoft, Google's parent company Alphabet Inc. is one of the five Big Tech companies.\n",
      "\n",
      "\n",
      "\n",
      "Google was founded on September 4, 1998, by American computer scientists Larry Page and Sergey Brin while they were PhD students at Stanford University in California. Together they own about 14% of its publicly listed shares and control 56% of its stockholder voting power through super-voting stock. The company went public via an initial public offering (IPO) in 2004. In 2015, Google was reorganized as a wholly owned subsidiary of Alphabet Inc. Google is Alphabet's largest subsidiary and is a holding company for Alphabet's internet properties and interests. Sundar Pichai was appointed CEO of Google on October 24, 2015, replacing Larry Page, who became the CEO of Alphabet. On December 3, 2019, Pichai also became the CEO of Alphabet.[14]\n",
      "\n",
      "\n",
      "\n",
      "The company has since rapidly grown to offer a multitude of products and services beyond Google Search, many of which hold dominant market positions. These products address a wide range of use cases, including email (Gmail), navigation (Waze & Maps), cloud computing (Cloud), web browsing (Chrome), video sharing (YouTube), productivity (Workspace), operating systems (Android), cloud storage (Drive), language translation (Translate), photo storage (Photos), video calling (Meet), smart home (Nest), smartphones (Pixel), wearable technology (Pixel Watch & Fitbit), music streaming (YouTube Music), video on demand (YouTube TV), artificial intelligence (Google Assistant), machine learning APIs (TensorFlow), AI chips (TPU), and more. Discontinued Google products include gaming (Stadia), Glass, Google+, Reader, Play Music, Nexus, Hangouts, and Inbox by Gmail.[15][16]\n",
      "\n",
      "\n",
      "\n",
      "Google's other ventures outside of Internet services and consumer electronics include quantum computing (Sycamore), self-driving cars (Waymo, formerly the Google Self-Driving Car Project), smart cities (Sidewalk Labs), and transformer models (Google Brain).[17]\n",
      "\n",
      "\n",
      "\n",
      "Google and YouTube are the two most visited websites worldwide followed by Facebook and Twitter. Google is also the largest search engine, mapping and navigation application, email provider, office suite, video sharing platform, photo and cloud storage provider, mobile operating system, web browser, ML framework, and AI virtual assistant provider in the world as measured by market share. On the list of most valuable brands, Google is ranked second by Forbes[18] and fourth by Interbrand.[19] It has received significant criticism involving issues such as privacy concerns, tax avoidance, censorship, search neutrality, antitrust and abuse of its monopoly position.\n",
      "\n",
      "\n",
      "\n",
      "History\n",
      "\n",
      "Main articles: History of Google and List of mergers and acquisitions by Alphabet\n",
      "\n",
      "See also: Alphabet Inc.\n",
      "\n",
      "Early years\n",
      "\n",
      "\n",
      "\n",
      "Larry Page and Sergey Brin in 2003\n",
      "\n",
      "Google began in January 1996 as a research project by Larry Page and Sergey Brin when they were both PhD students at Stanford University in California.[20][21][22] The project initially involved an unofficial \"third founder\", Scott Hassan, the original lead programmer who wrote much of the code for the original Google Search engine, but he left before Google was officially founded as a company;[23][24] Hassan went on to pursue a career in robotics and founded the company Willow Garage in 2006.[25][26]\n",
      "\n",
      "\n",
      "\n",
      "While conventional search engines ranked results by counting how many times the search terms appeared on the page, they theorized about a better system that analyzed the relationships among websites.[27] They called this algorithm PageRank; it determined a website's relevance by the number of pages, and the importance of those pages that linked back to the original site.[28][29] Page told his ideas to Hassan, who began writing the code to implement Page's ideas.[23]\n",
      "\n",
      "\n",
      "\n",
      "Page and Brin originally nicknamed the new search engine \"BackRub\", because the system checked backlinks to estimate the importance of a site.[20][30][31] Hassan as well as Alan Steremberg were cited by Page and Brin as being critical to the development of Google. Rajeev Motwani and Terry Winograd later co-authored with Page and Brin the first paper about the project, describing PageRank and the initial prototype of the Google search engine, published in 1998. Héctor García-Molina and Jeff Ullman were also cited as contributors to the project.[32] PageRank was influenced by a similar page-ranking and site-scoring algorithm earlier used for RankDex, developed by Robin Li in 1996, with Larry Page's PageRank patent including a citation to Li's earlier RankDex patent; Li later went on to create the Chinese search engine Baidu.[33][34]\n",
      "\n",
      "\n",
      "\n",
      "Eventually, they changed the name to Google; the name of the search engine was a misspelling of the word googol,[20][35][36] a very large number written 10100 (1 followed by 100 zeros), picked to signify that the search engine was intended to provide large quantities of information.[37]\n",
      "\n",
      "\n",
      "\n",
      "Google's homepage in 1998\n",
      "\n",
      "Google's original homepage had a simple design because the company founders had little experience in HTML, the markup language used for designing web pages.[38]\n",
      "\n",
      "Google was initially funded by an August 1998 investment of $100,000 from Andy Bechtolsheim,[20] co-founder of Sun Microsystems. This initial investment served as a motivation to incorporate the company to be able to use the funds.[39][40] Page and Brin initially approached David Cheriton for advice because he had a nearby office in Stanford, and they knew he had startup experience, having recently sold the company he co-founded, Granite Systems, to Cisco for $220 million. David arranged a meeting with Page and Brin and his Granite co-founder Andy Bechtolsheim. The meeting was set for 8 a.m. at the front porch of David's home in Palo Alto and it had to be brief because Andy had another meeting at Cisco, where he now worked after the acquisition, at 9 a.m. Andy briefly tested a demo of the website, liked what he saw, and then went back to his car to grab the check. David Cheriton later also joined in with a $250,000 investment.[41][42]\n",
      "\n",
      "\n",
      "\n",
      "Google received money from two other angel investors in 1998: Amazon.com founder Jeff Bezos, and entrepreneur Ram Shriram.[43] Page and Brin had first approached Shriram, who was a venture capitalist, for funding and counsel, and Shriram invested $250,000 in Google in February 1998. Shriram knew Bezos because Amazon had acquired Junglee, at which Shriram was the president. It was Shriram who told Bezos about Google. Bezos asked Shriram to meet Google's founders and they met six months after Shriram had made his investment when Bezos and his wife were on a vacation trip to the Bay Area. Google's initial funding round had already formally closed but Bezos' status as CEO of Amazon was enough to persuade Page and Brin to extend the round and accept his investment.[44][45]\n",
      "\n",
      "\n",
      "\n",
      "Between these initial investors, friends, and family Google raised around $1,000,000, which is what allowed them to open up their original shop in Menlo Park, California.[46] Craig Silverstein, a fellow PhD student at Stanford, was hired as the first employee.[22][47][48]\n",
      "\n",
      "\n",
      "\n",
      "After some additional, small investments through the end of 1998 to early 1999,[43] a new $25 million round of funding was announced on June 7, 1999,[49] with major investors including the venture capital firms Kleiner Perkins and Sequoia Capital.[40] Both firms were initially reticent about investing jointly in Google, as each wanted to retain a larger percentage of control over the company to themselves. Larry and Sergey however insisted in taking investments from both. Both venture companies finally agreed to investing jointly $12.5 million each due to their belief in Google's great potential and through the mediation of earlier angel investors Ron Conway and Ram Shriram who had contacts in the venture companies.[50]\n",
      "\n",
      "\n",
      "\n",
      "Growth\n",
      "\n",
      "In March 1999, the company moved its offices to Palo Alto, California,[51] which is home to several prominent Silicon Valley technology start-ups.[52] The next year, Google began selling advertisements associated with search keywords against Page and Brin's initial opposition toward an advertising-funded search engine.[53][22] To maintain an uncluttered page design, advertisements were solely text-based.[54] In June 2000, it was announced that Google would become the default search engine provider for Yahoo!, one of the most popular websites at the time, replacing Inktomi.[55][56]\n",
      "\n",
      "\n",
      "\n",
      "Google's first servers, showing lots of exposed wiring and circuit boards\n",
      "\n",
      "Google's first production server[57]\n",
      "\n",
      "In 2003, after outgrowing two other locations, the company leased an office complex from Silicon Graphics, at 1600 Amphitheatre Parkway in Mountain View, California.[58] The complex became known as the Googleplex, a play on the word googolplex, the number one followed by a googol of zeroes. Three years later, Google bought the property from SGI for $319 million.[59] By that time, the name \"Google\" had found its way into everyday language, causing the verb \"google\" to be added to the Merriam-Webster Collegiate Dictionary and the Oxford English Dictionary, denoted as: \"to use the Google search engine to obtain information on the Internet\".[60][61] The first use of the verb on television appeared in an October 2002 episode of Buffy the Vampire Slayer.[62]\n",
      "\n",
      "\n",
      "\n",
      "Additionally, in 2001 Google's investors felt the need to have a strong internal management, and they agreed to hire Eric Schmidt as the chairman and CEO of Google.[46] Eric was proposed by John Doerr from Kleiner Perkins. He had been trying to find a CEO that Sergey and Larry would accept for several months, but they rejected several candidates because they wanted to retain control over the company. Michael Moritz from Sequoia Capital at one point even menaced requesting Google to immediately pay back Sequoia's $12.5m investment if they did not fulfill their promise to hire a chief executive officer, which had been made verbally during investment negotiations. Eric was not initially enthusiastic about joining Google either, as the company's full potential had not yet been widely recognized at the time, and as he was occupied with his responsibilities at Novell where he was CEO. As part of him joining, Eric agreed to buy $1 million of Google preferred stocks as a way to show his commitment and to provide funds Google needed.[63]\n",
      "\n",
      "\n",
      "\n",
      "Initial public offering\n",
      "\n"
     ]
    }
   ],
   "source": [
    "for i in open(\"Google LLC (ˈɡuːɡəl ⓘ) is an Americ.txt\"):\n",
    "    print(i)                                                              #oepn function --to oepn"
   ]
  },
  {
   "cell_type": "code",
   "execution_count": 26,
   "id": "3a196b80-0da2-4af4-baf6-6511ecd179de",
   "metadata": {},
   "outputs": [],
   "source": [
    "#write function to read and return lin eby line\n",
    "def read_file(file_name):\n",
    "    with open(file_name) as file: #file you can give any name\n",
    "        for i in file:\n",
    "            yield i"
   ]
  },
  {
   "cell_type": "code",
   "execution_count": 28,
   "id": "52b9894f-c308-471e-b86f-9e4ec2cd0cc6",
   "metadata": {},
   "outputs": [
    {
     "name": "stdout",
     "output_type": "stream",
     "text": [
      "Google LLC (/ˈɡuːɡəl/ ⓘ) is an American multinational technology company focusing on artificial intelligence,[9] online advertising, search engine technology, cloud computing, computer software, quantum computing, e-commerce, and consumer electronics. It has been referred to as \"the most powerful company in the world\"[10] and as one of the world's most valuable brands due to its market dominance, data collection, and technological advantages in the field of artificial intelligence.[11][12][13] Alongside Amazon, Apple Inc., Meta Platforms, and Microsoft, Google's parent company Alphabet Inc. is one of the five Big Tech companies.\n",
      "\n",
      "\n",
      "\n",
      "Google was founded on September 4, 1998, by American computer scientists Larry Page and Sergey Brin while they were PhD students at Stanford University in California. Together they own about 14% of its publicly listed shares and control 56% of its stockholder voting power through super-voting stock. The company went public via an initial public offering (IPO) in 2004. In 2015, Google was reorganized as a wholly owned subsidiary of Alphabet Inc. Google is Alphabet's largest subsidiary and is a holding company for Alphabet's internet properties and interests. Sundar Pichai was appointed CEO of Google on October 24, 2015, replacing Larry Page, who became the CEO of Alphabet. On December 3, 2019, Pichai also became the CEO of Alphabet.[14]\n",
      "\n",
      "\n",
      "\n",
      "The company has since rapidly grown to offer a multitude of products and services beyond Google Search, many of which hold dominant market positions. These products address a wide range of use cases, including email (Gmail), navigation (Waze & Maps), cloud computing (Cloud), web browsing (Chrome), video sharing (YouTube), productivity (Workspace), operating systems (Android), cloud storage (Drive), language translation (Translate), photo storage (Photos), video calling (Meet), smart home (Nest), smartphones (Pixel), wearable technology (Pixel Watch & Fitbit), music streaming (YouTube Music), video on demand (YouTube TV), artificial intelligence (Google Assistant), machine learning APIs (TensorFlow), AI chips (TPU), and more. Discontinued Google products include gaming (Stadia), Glass, Google+, Reader, Play Music, Nexus, Hangouts, and Inbox by Gmail.[15][16]\n",
      "\n",
      "\n",
      "\n",
      "Google's other ventures outside of Internet services and consumer electronics include quantum computing (Sycamore), self-driving cars (Waymo, formerly the Google Self-Driving Car Project), smart cities (Sidewalk Labs), and transformer models (Google Brain).[17]\n",
      "\n",
      "\n",
      "\n",
      "Google and YouTube are the two most visited websites worldwide followed by Facebook and Twitter. Google is also the largest search engine, mapping and navigation application, email provider, office suite, video sharing platform, photo and cloud storage provider, mobile operating system, web browser, ML framework, and AI virtual assistant provider in the world as measured by market share. On the list of most valuable brands, Google is ranked second by Forbes[18] and fourth by Interbrand.[19] It has received significant criticism involving issues such as privacy concerns, tax avoidance, censorship, search neutrality, antitrust and abuse of its monopoly position.\n",
      "\n",
      "\n",
      "\n",
      "History\n",
      "\n",
      "Main articles: History of Google and List of mergers and acquisitions by Alphabet\n",
      "\n",
      "See also: Alphabet Inc.\n",
      "\n",
      "Early years\n",
      "\n",
      "\n",
      "\n",
      "Larry Page and Sergey Brin in 2003\n",
      "\n",
      "Google began in January 1996 as a research project by Larry Page and Sergey Brin when they were both PhD students at Stanford University in California.[20][21][22] The project initially involved an unofficial \"third founder\", Scott Hassan, the original lead programmer who wrote much of the code for the original Google Search engine, but he left before Google was officially founded as a company;[23][24] Hassan went on to pursue a career in robotics and founded the company Willow Garage in 2006.[25][26]\n",
      "\n",
      "\n",
      "\n",
      "While conventional search engines ranked results by counting how many times the search terms appeared on the page, they theorized about a better system that analyzed the relationships among websites.[27] They called this algorithm PageRank; it determined a website's relevance by the number of pages, and the importance of those pages that linked back to the original site.[28][29] Page told his ideas to Hassan, who began writing the code to implement Page's ideas.[23]\n",
      "\n",
      "\n",
      "\n",
      "Page and Brin originally nicknamed the new search engine \"BackRub\", because the system checked backlinks to estimate the importance of a site.[20][30][31] Hassan as well as Alan Steremberg were cited by Page and Brin as being critical to the development of Google. Rajeev Motwani and Terry Winograd later co-authored with Page and Brin the first paper about the project, describing PageRank and the initial prototype of the Google search engine, published in 1998. Héctor García-Molina and Jeff Ullman were also cited as contributors to the project.[32] PageRank was influenced by a similar page-ranking and site-scoring algorithm earlier used for RankDex, developed by Robin Li in 1996, with Larry Page's PageRank patent including a citation to Li's earlier RankDex patent; Li later went on to create the Chinese search engine Baidu.[33][34]\n",
      "\n",
      "\n",
      "\n",
      "Eventually, they changed the name to Google; the name of the search engine was a misspelling of the word googol,[20][35][36] a very large number written 10100 (1 followed by 100 zeros), picked to signify that the search engine was intended to provide large quantities of information.[37]\n",
      "\n",
      "\n",
      "\n",
      "Google's homepage in 1998\n",
      "\n",
      "Google's original homepage had a simple design because the company founders had little experience in HTML, the markup language used for designing web pages.[38]\n",
      "\n",
      "Google was initially funded by an August 1998 investment of $100,000 from Andy Bechtolsheim,[20] co-founder of Sun Microsystems. This initial investment served as a motivation to incorporate the company to be able to use the funds.[39][40] Page and Brin initially approached David Cheriton for advice because he had a nearby office in Stanford, and they knew he had startup experience, having recently sold the company he co-founded, Granite Systems, to Cisco for $220 million. David arranged a meeting with Page and Brin and his Granite co-founder Andy Bechtolsheim. The meeting was set for 8 a.m. at the front porch of David's home in Palo Alto and it had to be brief because Andy had another meeting at Cisco, where he now worked after the acquisition, at 9 a.m. Andy briefly tested a demo of the website, liked what he saw, and then went back to his car to grab the check. David Cheriton later also joined in with a $250,000 investment.[41][42]\n",
      "\n",
      "\n",
      "\n",
      "Google received money from two other angel investors in 1998: Amazon.com founder Jeff Bezos, and entrepreneur Ram Shriram.[43] Page and Brin had first approached Shriram, who was a venture capitalist, for funding and counsel, and Shriram invested $250,000 in Google in February 1998. Shriram knew Bezos because Amazon had acquired Junglee, at which Shriram was the president. It was Shriram who told Bezos about Google. Bezos asked Shriram to meet Google's founders and they met six months after Shriram had made his investment when Bezos and his wife were on a vacation trip to the Bay Area. Google's initial funding round had already formally closed but Bezos' status as CEO of Amazon was enough to persuade Page and Brin to extend the round and accept his investment.[44][45]\n",
      "\n",
      "\n",
      "\n",
      "Between these initial investors, friends, and family Google raised around $1,000,000, which is what allowed them to open up their original shop in Menlo Park, California.[46] Craig Silverstein, a fellow PhD student at Stanford, was hired as the first employee.[22][47][48]\n",
      "\n",
      "\n",
      "\n",
      "After some additional, small investments through the end of 1998 to early 1999,[43] a new $25 million round of funding was announced on June 7, 1999,[49] with major investors including the venture capital firms Kleiner Perkins and Sequoia Capital.[40] Both firms were initially reticent about investing jointly in Google, as each wanted to retain a larger percentage of control over the company to themselves. Larry and Sergey however insisted in taking investments from both. Both venture companies finally agreed to investing jointly $12.5 million each due to their belief in Google's great potential and through the mediation of earlier angel investors Ron Conway and Ram Shriram who had contacts in the venture companies.[50]\n",
      "\n",
      "\n",
      "\n",
      "Growth\n",
      "\n",
      "In March 1999, the company moved its offices to Palo Alto, California,[51] which is home to several prominent Silicon Valley technology start-ups.[52] The next year, Google began selling advertisements associated with search keywords against Page and Brin's initial opposition toward an advertising-funded search engine.[53][22] To maintain an uncluttered page design, advertisements were solely text-based.[54] In June 2000, it was announced that Google would become the default search engine provider for Yahoo!, one of the most popular websites at the time, replacing Inktomi.[55][56]\n",
      "\n",
      "\n",
      "\n",
      "Google's first servers, showing lots of exposed wiring and circuit boards\n",
      "\n",
      "Google's first production server[57]\n",
      "\n",
      "In 2003, after outgrowing two other locations, the company leased an office complex from Silicon Graphics, at 1600 Amphitheatre Parkway in Mountain View, California.[58] The complex became known as the Googleplex, a play on the word googolplex, the number one followed by a googol of zeroes. Three years later, Google bought the property from SGI for $319 million.[59] By that time, the name \"Google\" had found its way into everyday language, causing the verb \"google\" to be added to the Merriam-Webster Collegiate Dictionary and the Oxford English Dictionary, denoted as: \"to use the Google search engine to obtain information on the Internet\".[60][61] The first use of the verb on television appeared in an October 2002 episode of Buffy the Vampire Slayer.[62]\n",
      "\n",
      "\n",
      "\n",
      "Additionally, in 2001 Google's investors felt the need to have a strong internal management, and they agreed to hire Eric Schmidt as the chairman and CEO of Google.[46] Eric was proposed by John Doerr from Kleiner Perkins. He had been trying to find a CEO that Sergey and Larry would accept for several months, but they rejected several candidates because they wanted to retain control over the company. Michael Moritz from Sequoia Capital at one point even menaced requesting Google to immediately pay back Sequoia's $12.5m investment if they did not fulfill their promise to hire a chief executive officer, which had been made verbally during investment negotiations. Eric was not initially enthusiastic about joining Google either, as the company's full potential had not yet been widely recognized at the time, and as he was occupied with his responsibilities at Novell where he was CEO. As part of him joining, Eric agreed to buy $1 million of Google preferred stocks as a way to show his commitment and to provide funds Google needed.[63]\n",
      "\n",
      "\n",
      "\n",
      "Initial public offering\n",
      "\n"
     ]
    }
   ],
   "source": [
    "for i in read_file(\"Google LLC (ˈɡuːɡəl ⓘ) is an Americ.txt\"):\n",
    "    print(i)"
   ]
  },
  {
   "cell_type": "code",
   "execution_count": null,
   "id": "5a1391a4-3ee8-4593-b4bd-01dc617dd2db",
   "metadata": {},
   "outputs": [],
   "source": [
    "#yiled fun used when we read 10 gb of data --------very guge\n",
    "#if you use return -------it will return after read and save to console then only it will return all file for read\n",
    "#you need huge amount of data but you dont want to store data in RAM just throw it"
   ]
  },
  {
   "cell_type": "code",
   "execution_count": null,
   "id": "442d579b-99bd-41bb-935a-6c9ed4e006f9",
   "metadata": {},
   "outputs": [],
   "source": []
  }
 ],
 "metadata": {
  "kernelspec": {
   "display_name": "Python 3 (ipykernel)",
   "language": "python",
   "name": "python3"
  },
  "language_info": {
   "codemirror_mode": {
    "name": "ipython",
    "version": 3
   },
   "file_extension": ".py",
   "mimetype": "text/x-python",
   "name": "python",
   "nbconvert_exporter": "python",
   "pygments_lexer": "ipython3",
   "version": "3.10.8"
  }
 },
 "nbformat": 4,
 "nbformat_minor": 5
}
